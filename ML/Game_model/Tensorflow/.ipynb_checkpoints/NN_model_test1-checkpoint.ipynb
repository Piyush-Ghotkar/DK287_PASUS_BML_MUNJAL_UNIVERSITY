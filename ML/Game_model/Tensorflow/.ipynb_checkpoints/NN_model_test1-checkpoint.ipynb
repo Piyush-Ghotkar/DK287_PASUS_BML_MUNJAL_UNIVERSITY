{
 "cells": [
  {
   "cell_type": "code",
   "execution_count": 1,
   "metadata": {},
   "outputs": [
    {
     "name": "stderr",
     "output_type": "stream",
     "text": [
      "Using TensorFlow backend.\n"
     ]
    }
   ],
   "source": [
    "import pandas as pd\n",
    "import tensorflow as tf\n",
    "import keras\n",
    "from sklearn.model_selection import train_test_split\n",
    "import tensorflow as tf\n",
    "import numpy as np\n",
    "from tensorflow import lite"
   ]
  },
  {
   "cell_type": "code",
   "execution_count": 2,
   "metadata": {},
   "outputs": [],
   "source": [
    "df=pd.read_excel('GameScore_dataset.xlsx')\n",
    "properties = list(df.columns.values)\n",
    "properties.remove('alzheimer')\n",
    "X = df[properties]\n",
    "y = df['alzheimer']"
   ]
  },
  {
   "cell_type": "code",
   "execution_count": 3,
   "metadata": {},
   "outputs": [],
   "source": [
    "X_train, X_test, y_train, y_test = train_test_split(X, y, test_size=0.2, random_state=10)"
   ]
  },
  {
   "cell_type": "code",
   "execution_count": 4,
   "metadata": {},
   "outputs": [
    {
     "name": "stdout",
     "output_type": "stream",
     "text": [
      "WARNING:tensorflow:From c:\\program files\\python36\\lib\\site-packages\\tensorflow_core\\python\\ops\\resource_variable_ops.py:1630: calling BaseResourceVariable.__init__ (from tensorflow.python.ops.resource_variable_ops) with constraint is deprecated and will be removed in a future version.\n",
      "Instructions for updating:\n",
      "If using Keras pass *_constraint arguments to layers.\n"
     ]
    }
   ],
   "source": [
    "model = keras.Sequential([\n",
    "    keras.layers.Dense(9,input_shape=[9,]),\n",
    "    #keras.layers.Flatten(input_shape=[9,]),\n",
    "    keras.layers.Dense(16, activation=tf.nn.relu),\n",
    "    keras.layers.Dense(16, activation=tf.nn.relu),\n",
    "    keras.layers.Dense(1, activation=tf.nn.sigmoid),\n",
    "])"
   ]
  },
  {
   "cell_type": "code",
   "execution_count": 5,
   "metadata": {},
   "outputs": [
    {
     "name": "stdout",
     "output_type": "stream",
     "text": [
      "WARNING:tensorflow:From c:\\program files\\python36\\lib\\site-packages\\tensorflow_core\\python\\ops\\nn_impl.py:183: where (from tensorflow.python.ops.array_ops) is deprecated and will be removed in a future version.\n",
      "Instructions for updating:\n",
      "Use tf.where in 2.0, which has the same broadcast rule as np.where\n"
     ]
    }
   ],
   "source": [
    "model.compile(optimizer='adam',\n",
    "              loss='binary_crossentropy',\n",
    "              metrics=['accuracy'])"
   ]
  },
  {
   "cell_type": "code",
   "execution_count": 6,
   "metadata": {},
   "outputs": [
    {
     "name": "stdout",
     "output_type": "stream",
     "text": [
      "WARNING:tensorflow:From c:\\program files\\python36\\lib\\site-packages\\keras\\backend\\tensorflow_backend.py:422: The name tf.global_variables is deprecated. Please use tf.compat.v1.global_variables instead.\n",
      "\n",
      "Epoch 1/50\n",
      "198/198 [==============================] - 1s 4ms/step - loss: 3.1937 - accuracy: 0.7020\n",
      "Epoch 2/50\n",
      "198/198 [==============================] - 0s 917us/step - loss: 0.4585 - accuracy: 0.8636\n",
      "Epoch 3/50\n",
      "198/198 [==============================] - 0s 947us/step - loss: 0.4588 - accuracy: 0.8838\n",
      "Epoch 4/50\n",
      "198/198 [==============================] - 0s 1ms/step - loss: 0.3836 - accuracy: 0.8939\n",
      "Epoch 5/50\n",
      "198/198 [==============================] - 0s 1ms/step - loss: 0.3856 - accuracy: 0.8939\n",
      "Epoch 6/50\n",
      "198/198 [==============================] - 0s 977us/step - loss: 0.3612 - accuracy: 0.8990\n",
      "Epoch 7/50\n",
      "198/198 [==============================] - 0s 952us/step - loss: 0.4085 - accuracy: 0.8788\n",
      "Epoch 8/50\n",
      "198/198 [==============================] - 0s 997us/step - loss: 0.3846 - accuracy: 0.8889\n",
      "Epoch 9/50\n",
      "198/198 [==============================] - 0s 942us/step - loss: 0.3676 - accuracy: 0.8889\n",
      "Epoch 10/50\n",
      "198/198 [==============================] - 0s 1ms/step - loss: 0.3584 - accuracy: 0.8939\n",
      "Epoch 11/50\n",
      "198/198 [==============================] - 0s 1ms/step - loss: 0.4449 - accuracy: 0.8889\n",
      "Epoch 12/50\n",
      "198/198 [==============================] - 0s 1ms/step - loss: 0.3305 - accuracy: 0.8939\n",
      "Epoch 13/50\n",
      "198/198 [==============================] - 0s 1ms/step - loss: 0.2991 - accuracy: 0.8990\n",
      "Epoch 14/50\n",
      "198/198 [==============================] - 0s 959us/step - loss: 0.3119 - accuracy: 0.9040\n",
      "Epoch 15/50\n",
      "198/198 [==============================] - 0s 1ms/step - loss: 0.3089 - accuracy: 0.9141\n",
      "Epoch 16/50\n",
      "198/198 [==============================] - 0s 1ms/step - loss: 0.3084 - accuracy: 0.8990\n",
      "Epoch 17/50\n",
      "198/198 [==============================] - 0s 1ms/step - loss: 0.3296 - accuracy: 0.9040\n",
      "Epoch 18/50\n",
      "198/198 [==============================] - 0s 982us/step - loss: 0.3093 - accuracy: 0.9141\n",
      "Epoch 19/50\n",
      "198/198 [==============================] - 0s 1ms/step - loss: 0.3029 - accuracy: 0.9293\n",
      "Epoch 20/50\n",
      "198/198 [==============================] - 0s 944us/step - loss: 0.2768 - accuracy: 0.9192\n",
      "Epoch 21/50\n",
      "198/198 [==============================] - 0s 957us/step - loss: 0.2782 - accuracy: 0.9192\n",
      "Epoch 22/50\n",
      "198/198 [==============================] - 0s 992us/step - loss: 0.2912 - accuracy: 0.9242\n",
      "Epoch 23/50\n",
      "198/198 [==============================] - 0s 1ms/step - loss: 0.2857 - accuracy: 0.9192\n",
      "Epoch 24/50\n",
      "198/198 [==============================] - 0s 917us/step - loss: 0.2985 - accuracy: 0.9040\n",
      "Epoch 25/50\n",
      "198/198 [==============================] - 0s 992us/step - loss: 0.2687 - accuracy: 0.9091\n",
      "Epoch 26/50\n",
      "198/198 [==============================] - 0s 996us/step - loss: 0.3121 - accuracy: 0.9040\n",
      "Epoch 27/50\n",
      "198/198 [==============================] - 0s 1ms/step - loss: 0.2751 - accuracy: 0.9192\n",
      "Epoch 28/50\n",
      "198/198 [==============================] - 0s 973us/step - loss: 0.3079 - accuracy: 0.9242\n",
      "Epoch 29/50\n",
      "198/198 [==============================] - 0s 1ms/step - loss: 0.2735 - accuracy: 0.9242\n",
      "Epoch 30/50\n",
      "198/198 [==============================] - 0s 957us/step - loss: 0.3351 - accuracy: 0.8939\n",
      "Epoch 31/50\n",
      "198/198 [==============================] - 0s 1ms/step - loss: 0.3697 - accuracy: 0.9192\n",
      "Epoch 32/50\n",
      "198/198 [==============================] - 0s 1ms/step - loss: 0.3062 - accuracy: 0.9141\n",
      "Epoch 33/50\n",
      "198/198 [==============================] - 0s 962us/step - loss: 0.2921 - accuracy: 0.9192\n",
      "Epoch 34/50\n",
      "198/198 [==============================] - 0s 1ms/step - loss: 0.2568 - accuracy: 0.9242\n",
      "Epoch 35/50\n",
      "198/198 [==============================] - 0s 982us/step - loss: 0.2700 - accuracy: 0.9192\n",
      "Epoch 36/50\n",
      "198/198 [==============================] - 0s 1ms/step - loss: 0.3090 - accuracy: 0.8939\n",
      "Epoch 37/50\n",
      "198/198 [==============================] - 0s 1ms/step - loss: 0.2954 - accuracy: 0.9141\n",
      "Epoch 38/50\n",
      "198/198 [==============================] - 0s 1ms/step - loss: 0.2874 - accuracy: 0.9293\n",
      "Epoch 39/50\n",
      "198/198 [==============================] - 0s 1ms/step - loss: 0.2922 - accuracy: 0.9141\n",
      "Epoch 40/50\n",
      "198/198 [==============================] - 0s 1ms/step - loss: 0.2592 - accuracy: 0.9141\n",
      "Epoch 41/50\n",
      "198/198 [==============================] - 0s 1ms/step - loss: 0.3084 - accuracy: 0.9192\n",
      "Epoch 42/50\n",
      "198/198 [==============================] - 0s 2ms/step - loss: 0.2942 - accuracy: 0.9141\n",
      "Epoch 43/50\n",
      "198/198 [==============================] - 0s 937us/step - loss: 0.2743 - accuracy: 0.9242\n",
      "Epoch 44/50\n",
      "198/198 [==============================] - 0s 1ms/step - loss: 0.2681 - accuracy: 0.9242\n",
      "Epoch 45/50\n",
      "198/198 [==============================] - 0s 1ms/step - loss: 0.2899 - accuracy: 0.9141\n",
      "Epoch 46/50\n",
      "198/198 [==============================] - 0s 962us/step - loss: 0.2561 - accuracy: 0.9242\n",
      "Epoch 47/50\n",
      "198/198 [==============================] - 0s 987us/step - loss: 0.3045 - accuracy: 0.9242\n",
      "Epoch 48/50\n",
      "198/198 [==============================] - 0s 977us/step - loss: 0.2460 - accuracy: 0.9394\n",
      "Epoch 49/50\n",
      "198/198 [==============================] - 0s 929us/step - loss: 0.2944 - accuracy: 0.9192\n",
      "Epoch 50/50\n",
      "198/198 [==============================] - 0s 992us/step - loss: 0.2803 - accuracy: 0.9192\n",
      "50/50 [==============================] - 0s 2ms/step\n",
      "Test accuracy: 0.8600000143051147\n"
     ]
    }
   ],
   "source": [
    "model.fit(X_train, y_train, epochs=50, batch_size=1)\n",
    "\n",
    "test_loss, test_acc = model.evaluate(X_test, y_test)\n",
    "print('Test accuracy:', test_acc)"
   ]
  },
  {
   "cell_type": "code",
   "execution_count": 7,
   "metadata": {},
   "outputs": [
    {
     "name": "stdout",
     "output_type": "stream",
     "text": [
      "Model: \"sequential_1\"\n",
      "_________________________________________________________________\n",
      "Layer (type)                 Output Shape              Param #   \n",
      "=================================================================\n",
      "dense_1 (Dense)              (None, 9)                 90        \n",
      "_________________________________________________________________\n",
      "dense_2 (Dense)              (None, 16)                160       \n",
      "_________________________________________________________________\n",
      "dense_3 (Dense)              (None, 16)                272       \n",
      "_________________________________________________________________\n",
      "dense_4 (Dense)              (None, 1)                 17        \n",
      "=================================================================\n",
      "Total params: 539\n",
      "Trainable params: 539\n",
      "Non-trainable params: 0\n",
      "_________________________________________________________________\n"
     ]
    }
   ],
   "source": [
    "model.summary()"
   ]
  },
  {
   "cell_type": "code",
   "execution_count": 8,
   "metadata": {},
   "outputs": [
    {
     "data": {
      "text/plain": [
       "61    4\n",
       "Name: speed, dtype: int64"
      ]
     },
     "execution_count": 8,
     "metadata": {},
     "output_type": "execute_result"
    }
   ],
   "source": [
    "X_test[1:2]['speed']"
   ]
  },
  {
   "cell_type": "code",
   "execution_count": 10,
   "metadata": {},
   "outputs": [],
   "source": [
    "y_pred=model.predict(X_test)"
   ]
  },
  {
   "cell_type": "code",
   "execution_count": 25,
   "metadata": {},
   "outputs": [
    {
     "name": "stdout",
     "output_type": "stream",
     "text": [
      "0\n"
     ]
    }
   ],
   "source": [
    "print(int(a))"
   ]
  },
  {
   "cell_type": "code",
   "execution_count": 14,
   "metadata": {},
   "outputs": [
    {
     "data": {
      "text/plain": [
       "0.08457157336280641"
      ]
     },
     "execution_count": 14,
     "metadata": {},
     "output_type": "execute_result"
    }
   ],
   "source": [
    "from sklearn.metrics import mean_squared_error\n",
    "from math import sqrt\n",
    "mean_squared_error(y_test,y_pred)"
   ]
  },
  {
   "cell_type": "code",
   "execution_count": 13,
   "metadata": {},
   "outputs": [
    {
     "name": "stdout",
     "output_type": "stream",
     "text": [
      "0.2908119209434276\n"
     ]
    }
   ],
   "source": [
    "print(rms)"
   ]
  },
  {
   "cell_type": "code",
   "execution_count": 26,
   "metadata": {},
   "outputs": [],
   "source": [
    "#saving model by using tf save model\n",
    "model.save('saved_model') "
   ]
  },
  {
   "cell_type": "code",
   "execution_count": 27,
   "metadata": {},
   "outputs": [
    {
     "name": "stdout",
     "output_type": "stream",
     "text": [
      "<class 'str'>\n"
     ]
    }
   ],
   "source": [
    "#saving model as pkl\n",
    "import pickle\n",
    "weigh= model.get_weights()    \n",
    "pklfile= \"modelweights.pkl\"\n",
    "\n",
    "fpkl= open(pklfile, 'wb')    #Python 3     \n",
    "\n",
    "pickle.dump(weigh, fpkl, protocol= pickle.HIGHEST_PROTOCOL)\n",
    "print(type(pklfile))\n",
    "fpkl.close()"
   ]
  },
  {
   "cell_type": "code",
   "execution_count": 28,
   "metadata": {},
   "outputs": [],
   "source": [
    "keras_file=\"linear.h5\"\n",
    "keras.models.save_model(model,keras_file)"
   ]
  },
  {
   "cell_type": "code",
   "execution_count": 29,
   "metadata": {},
   "outputs": [
    {
     "name": "stdout",
     "output_type": "stream",
     "text": [
      "INFO:tensorflow:Froze 8 variables.\n",
      "INFO:tensorflow:Converted 8 variables to const ops.\n"
     ]
    },
    {
     "data": {
      "text/plain": [
       "3896"
      ]
     },
     "execution_count": 29,
     "metadata": {},
     "output_type": "execute_result"
    }
   ],
   "source": [
    "converter= lite.TocoConverter.from_keras_model_file(keras_file)\n",
    "tflite_model=converter.convert()\n",
    "open(\"NN_game_score.tflite\", \"wb\").write(tflite_model)"
   ]
  }
 ],
 "metadata": {
  "kernelspec": {
   "display_name": "Python 3",
   "language": "python",
   "name": "python3"
  },
  "language_info": {
   "codemirror_mode": {
    "name": "ipython",
    "version": 3
   },
   "file_extension": ".py",
   "mimetype": "text/x-python",
   "name": "python",
   "nbconvert_exporter": "python",
   "pygments_lexer": "ipython3",
   "version": "3.6.7"
  }
 },
 "nbformat": 4,
 "nbformat_minor": 2
}
