{
 "cells": [
  {
   "cell_type": "code",
   "execution_count": 17,
   "metadata": {},
   "outputs": [],
   "source": [
    "import pandas as pd\n",
    "import tensorflow as tf\n",
    "import keras\n",
    "from sklearn.model_selection import train_test_split\n",
    "import tensorflow as tf\n",
    "import numpy as np\n",
    "from tensorflow import lite"
   ]
  },
  {
   "cell_type": "code",
   "execution_count": 18,
   "metadata": {},
   "outputs": [],
   "source": [
    "df=pd.read_excel('GameScore_dataset.xlsx')\n",
    "properties = list(df.columns.values)\n",
    "properties.remove('alzheimer')\n",
    "X = df[properties]\n",
    "y = df['alzheimer']"
   ]
  },
  {
   "cell_type": "code",
   "execution_count": 19,
   "metadata": {},
   "outputs": [],
   "source": [
    "X_train, X_test, y_train, y_test = train_test_split(X, y, test_size=0.2, random_state=10)"
   ]
  },
  {
   "cell_type": "code",
   "execution_count": 20,
   "metadata": {},
   "outputs": [],
   "source": [
    "model = keras.Sequential([\n",
    "    keras.layers.Dense(9,input_shape=[9,]),\n",
    "    #keras.layers.Flatten(input_shape=[9,]),\n",
    "    keras.layers.Dense(16, activation=tf.nn.relu),\n",
    "    keras.layers.Dense(16, activation=tf.nn.relu),\n",
    "    keras.layers.Dense(1, activation=tf.nn.sigmoid),\n",
    "])"
   ]
  },
  {
   "cell_type": "code",
   "execution_count": 21,
   "metadata": {},
   "outputs": [],
   "source": [
    "model.compile(optimizer='adam',\n",
    "              loss='binary_crossentropy',\n",
    "              metrics=['accuracy'])"
   ]
  },
  {
   "cell_type": "code",
   "execution_count": 22,
   "metadata": {},
   "outputs": [
    {
     "name": "stdout",
     "output_type": "stream",
     "text": [
      "Epoch 1/50\n",
      "198/198 [==============================] - 1s 3ms/step - loss: 0.7391 - accuracy: 0.8384\n",
      "Epoch 2/50\n",
      "198/198 [==============================] - 0s 2ms/step - loss: 0.4568 - accuracy: 0.8838\n",
      "Epoch 3/50\n",
      "198/198 [==============================] - 1s 3ms/step - loss: 0.3811 - accuracy: 0.8889\n",
      "Epoch 4/50\n",
      "198/198 [==============================] - 1s 3ms/step - loss: 0.3659 - accuracy: 0.8990\n",
      "Epoch 5/50\n",
      "198/198 [==============================] - 1s 3ms/step - loss: 0.3591 - accuracy: 0.8939\n",
      "Epoch 6/50\n",
      "198/198 [==============================] - 1s 3ms/step - loss: 0.3072 - accuracy: 0.8990\n",
      "Epoch 7/50\n",
      "198/198 [==============================] - 1s 3ms/step - loss: 0.3618 - accuracy: 0.9040\n",
      "Epoch 8/50\n",
      "198/198 [==============================] - 1s 4ms/step - loss: 0.3575 - accuracy: 0.8990\n",
      "Epoch 9/50\n",
      "198/198 [==============================] - 0s 2ms/step - loss: 0.3007 - accuracy: 0.9141 ETA: 0s - loss: 0.2227 - accu\n",
      "Epoch 10/50\n",
      "198/198 [==============================] - 0s 2ms/step - loss: 0.2933 - accuracy: 0.9141\n",
      "Epoch 11/50\n",
      "198/198 [==============================] - 0s 2ms/step - loss: 0.3071 - accuracy: 0.9192\n",
      "Epoch 12/50\n",
      "198/198 [==============================] - 1s 3ms/step - loss: 0.3301 - accuracy: 0.9091\n",
      "Epoch 13/50\n",
      "198/198 [==============================] - 0s 2ms/step - loss: 0.3158 - accuracy: 0.9242\n",
      "Epoch 14/50\n",
      "198/198 [==============================] - 1s 3ms/step - loss: 0.3127 - accuracy: 0.9091\n",
      "Epoch 15/50\n",
      "198/198 [==============================] - 1s 3ms/step - loss: 0.2975 - accuracy: 0.9091\n",
      "Epoch 16/50\n",
      "198/198 [==============================] - 1s 3ms/step - loss: 0.3050 - accuracy: 0.9192\n",
      "Epoch 17/50\n",
      "198/198 [==============================] - 0s 2ms/step - loss: 0.2915 - accuracy: 0.9040\n",
      "Epoch 18/50\n",
      "198/198 [==============================] - 0s 2ms/step - loss: 0.2908 - accuracy: 0.9141\n",
      "Epoch 19/50\n",
      "198/198 [==============================] - 1s 3ms/step - loss: 0.2849 - accuracy: 0.9192: 0s - loss: 0.3886 - accuracy - ETA: 0s - loss: 0.2606 - accura\n",
      "Epoch 20/50\n",
      "198/198 [==============================] - 1s 3ms/step - loss: 0.3246 - accuracy: 0.8939\n",
      "Epoch 21/50\n",
      "198/198 [==============================] - 0s 2ms/step - loss: 0.3400 - accuracy: 0.9141\n",
      "Epoch 22/50\n",
      "198/198 [==============================] - 1s 3ms/step - loss: 0.2703 - accuracy: 0.9242\n",
      "Epoch 23/50\n",
      "198/198 [==============================] - 0s 2ms/step - loss: 0.2914 - accuracy: 0.9192\n",
      "Epoch 24/50\n",
      "198/198 [==============================] - 0s 2ms/step - loss: 0.2926 - accuracy: 0.9091\n",
      "Epoch 25/50\n",
      "198/198 [==============================] - 0s 2ms/step - loss: 0.2663 - accuracy: 0.9242\n",
      "Epoch 26/50\n",
      "198/198 [==============================] - 0s 2ms/step - loss: 0.2887 - accuracy: 0.9141\n",
      "Epoch 27/50\n",
      "198/198 [==============================] - 1s 3ms/step - loss: 0.3123 - accuracy: 0.9040\n",
      "Epoch 28/50\n",
      "198/198 [==============================] - 0s 2ms/step - loss: 0.2813 - accuracy: 0.9293\n",
      "Epoch 29/50\n",
      "198/198 [==============================] - 0s 2ms/step - loss: 0.2939 - accuracy: 0.9242\n",
      "Epoch 30/50\n",
      "198/198 [==============================] - 1s 3ms/step - loss: 0.2926 - accuracy: 0.9091: 0s - loss: 0.2783 - accura\n",
      "Epoch 31/50\n",
      "198/198 [==============================] - 0s 2ms/step - loss: 0.2916 - accuracy: 0.8990\n",
      "Epoch 32/50\n",
      "198/198 [==============================] - 0s 2ms/step - loss: 0.2839 - accuracy: 0.9141\n",
      "Epoch 33/50\n",
      "198/198 [==============================] - 0s 2ms/step - loss: 0.2768 - accuracy: 0.9242\n",
      "Epoch 34/50\n",
      "198/198 [==============================] - 0s 2ms/step - loss: 0.3062 - accuracy: 0.9242\n",
      "Epoch 35/50\n",
      "198/198 [==============================] - 0s 2ms/step - loss: 0.2841 - accuracy: 0.9141\n",
      "Epoch 36/50\n",
      "198/198 [==============================] - 0s 2ms/step - loss: 0.2775 - accuracy: 0.9141\n",
      "Epoch 37/50\n",
      "198/198 [==============================] - 1s 3ms/step - loss: 0.2625 - accuracy: 0.9091\n",
      "Epoch 38/50\n",
      "198/198 [==============================] - 1s 3ms/step - loss: 0.2718 - accuracy: 0.9242\n",
      "Epoch 39/50\n",
      "198/198 [==============================] - 1s 3ms/step - loss: 0.2726 - accuracy: 0.9192\n",
      "Epoch 40/50\n",
      "198/198 [==============================] - 0s 2ms/step - loss: 0.2651 - accuracy: 0.9141\n",
      "Epoch 41/50\n",
      "198/198 [==============================] - 0s 2ms/step - loss: 0.2566 - accuracy: 0.9242\n",
      "Epoch 42/50\n",
      "198/198 [==============================] - 1s 3ms/step - loss: 0.2807 - accuracy: 0.9091\n",
      "Epoch 43/50\n",
      "198/198 [==============================] - 1s 3ms/step - loss: 0.2594 - accuracy: 0.9192\n",
      "Epoch 44/50\n",
      "198/198 [==============================] - 1s 3ms/step - loss: 0.2664 - accuracy: 0.9242\n",
      "Epoch 45/50\n",
      "198/198 [==============================] - 1s 3ms/step - loss: 0.2737 - accuracy: 0.9192\n",
      "Epoch 46/50\n",
      "198/198 [==============================] - 1s 3ms/step - loss: 0.2510 - accuracy: 0.9192\n",
      "Epoch 47/50\n",
      "198/198 [==============================] - 1s 3ms/step - loss: 0.2704 - accuracy: 0.9192\n",
      "Epoch 48/50\n",
      "198/198 [==============================] - 0s 2ms/step - loss: 0.2597 - accuracy: 0.9141\n",
      "Epoch 49/50\n",
      "198/198 [==============================] - 0s 2ms/step - loss: 0.2819 - accuracy: 0.8939\n",
      "Epoch 50/50\n",
      "198/198 [==============================] - 0s 2ms/step - loss: 0.2593 - accuracy: 0.9091\n",
      "50/50 [==============================] - 0s 3ms/step\n",
      "Test accuracy: 0.9399999976158142\n"
     ]
    }
   ],
   "source": [
    "model.fit(X_train, y_train, epochs=50, batch_size=1)\n",
    "\n",
    "test_loss, test_acc = model.evaluate(X_test, y_test)\n",
    "print('Test accuracy:', test_acc)"
   ]
  },
  {
   "cell_type": "code",
   "execution_count": 23,
   "metadata": {},
   "outputs": [
    {
     "name": "stdout",
     "output_type": "stream",
     "text": [
      "Model: \"sequential_2\"\n",
      "_________________________________________________________________\n",
      "Layer (type)                 Output Shape              Param #   \n",
      "=================================================================\n",
      "dense_5 (Dense)              (None, 9)                 90        \n",
      "_________________________________________________________________\n",
      "dense_6 (Dense)              (None, 16)                160       \n",
      "_________________________________________________________________\n",
      "dense_7 (Dense)              (None, 16)                272       \n",
      "_________________________________________________________________\n",
      "dense_8 (Dense)              (None, 1)                 17        \n",
      "=================================================================\n",
      "Total params: 539\n",
      "Trainable params: 539\n",
      "Non-trainable params: 0\n",
      "_________________________________________________________________\n"
     ]
    }
   ],
   "source": [
    "model.summary()"
   ]
  },
  {
   "cell_type": "code",
   "execution_count": 24,
   "metadata": {},
   "outputs": [
    {
     "data": {
      "text/plain": [
       "61    4\n",
       "Name: speed, dtype: int64"
      ]
     },
     "execution_count": 24,
     "metadata": {},
     "output_type": "execute_result"
    }
   ],
   "source": [
    "X_test[1:2]['speed']"
   ]
  },
  {
   "cell_type": "code",
   "execution_count": 25,
   "metadata": {},
   "outputs": [],
   "source": [
    "y_pred=model.predict(X_test)"
   ]
  },
  {
   "cell_type": "code",
   "execution_count": 26,
   "metadata": {},
   "outputs": [
    {
     "ename": "NameError",
     "evalue": "name 'a' is not defined",
     "output_type": "error",
     "traceback": [
      "\u001b[1;31m---------------------------------------------------------------------------\u001b[0m",
      "\u001b[1;31mNameError\u001b[0m                                 Traceback (most recent call last)",
      "\u001b[1;32m<ipython-input-26-c783ea792008>\u001b[0m in \u001b[0;36m<module>\u001b[1;34m\u001b[0m\n\u001b[1;32m----> 1\u001b[1;33m \u001b[0mprint\u001b[0m\u001b[1;33m(\u001b[0m\u001b[0mint\u001b[0m\u001b[1;33m(\u001b[0m\u001b[0ma\u001b[0m\u001b[1;33m)\u001b[0m\u001b[1;33m)\u001b[0m\u001b[1;33m\u001b[0m\u001b[1;33m\u001b[0m\u001b[0m\n\u001b[0m",
      "\u001b[1;31mNameError\u001b[0m: name 'a' is not defined"
     ]
    }
   ],
   "source": [
    "print(int(a))"
   ]
  },
  {
   "cell_type": "code",
   "execution_count": null,
   "metadata": {},
   "outputs": [],
   "source": [
    "from sklearn.metrics import mean_squared_error\n",
    "from math import sqrt\n",
    "NN_mse=mean_squared_error(y_test,y_pred)\n",
    "print(NN_mse)"
   ]
  },
  {
   "cell_type": "code",
   "execution_count": null,
   "metadata": {},
   "outputs": [],
   "source": [
    "rms_NN = sqrt(mean_squared_error(y_test, y_predicted))\n",
    "print(rms_NN)"
   ]
  },
  {
   "cell_type": "code",
   "execution_count": null,
   "metadata": {},
   "outputs": [],
   "source": [
    "#saving model by using tf save model\n",
    "model.save('saved_model') "
   ]
  },
  {
   "cell_type": "code",
   "execution_count": null,
   "metadata": {},
   "outputs": [],
   "source": [
    "#saving model as pkl\n",
    "import pickle\n",
    "weigh= model.get_weights()    \n",
    "pklfile= \"modelweights.pkl\"\n",
    "\n",
    "fpkl= open(pklfile, 'wb')    #Python 3     \n",
    "\n",
    "pickle.dump(weigh, fpkl, protocol= pickle.HIGHEST_PROTOCOL)\n",
    "print(type(pklfile))\n",
    "fpkl.close()"
   ]
  },
  {
   "cell_type": "code",
   "execution_count": null,
   "metadata": {},
   "outputs": [],
   "source": [
    "keras_file=\"linear.h5\"\n",
    "keras.models.save_model(model,keras_file)"
   ]
  },
  {
   "cell_type": "code",
   "execution_count": null,
   "metadata": {},
   "outputs": [],
   "source": [
    "converter= lite.TocoConverter.from_keras_model_file(keras_file)\n",
    "tflite_model=converter.convert()\n",
    "open(\"NN_game_score.tflite\", \"wb\").write(tflite_model)"
   ]
  },
  {
   "cell_type": "code",
   "execution_count": null,
   "metadata": {},
   "outputs": [],
   "source": [
    "model.evaluate_"
   ]
  },
  {
   "cell_type": "code",
   "execution_count": null,
   "metadata": {},
   "outputs": [],
   "source": []
  }
 ],
 "metadata": {
  "kernelspec": {
   "display_name": "Python 3",
   "language": "python",
   "name": "python3"
  },
  "language_info": {
   "codemirror_mode": {
    "name": "ipython",
    "version": 3
   },
   "file_extension": ".py",
   "mimetype": "text/x-python",
   "name": "python",
   "nbconvert_exporter": "python",
   "pygments_lexer": "ipython3",
   "version": "3.6.7"
  }
 },
 "nbformat": 4,
 "nbformat_minor": 2
}
