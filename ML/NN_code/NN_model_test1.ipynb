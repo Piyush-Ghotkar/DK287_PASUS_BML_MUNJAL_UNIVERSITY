{
 "cells": [
  {
   "cell_type": "code",
   "execution_count": 1,
   "metadata": {},
   "outputs": [
    {
     "name": "stderr",
     "output_type": "stream",
     "text": [
      "Using TensorFlow backend.\n"
     ]
    }
   ],
   "source": [
    "import pandas as pd\n",
    "import tensorflow as tf\n",
    "import keras\n",
    "from sklearn.model_selection import train_test_split\n",
    "import tensorflow as tf\n",
    "import numpy as np\n",
    "from tensorflow import lite"
   ]
  },
  {
   "cell_type": "code",
   "execution_count": 24,
   "metadata": {},
   "outputs": [],
   "source": [
    "df=pd.read_excel('GameScore_dataset.xlsx')\n",
    "df=df.drop(['Unnamed: 0'], axis=1)\n",
    "properties = list(df.columns.values)\n",
    "properties.remove('alzheimer')\n",
    "X = df[properties]\n",
    "y = df['alzheimer']\n",
    "\n",
    "#df=df.drop(['attention_time'], axis=1)"
   ]
  },
  {
   "cell_type": "code",
   "execution_count": 25,
   "metadata": {},
   "outputs": [],
   "source": [
    "X_train, X_test, y_train, y_test = train_test_split(X, y, test_size=0.2, random_state=10)"
   ]
  },
  {
   "cell_type": "code",
   "execution_count": 26,
   "metadata": {},
   "outputs": [],
   "source": [
    "model = keras.Sequential([\n",
    "    keras.layers.Dense(9,input_shape=[9,]),\n",
    "    #keras.layers.Flatten(input_shape=[9,]),\n",
    "    keras.layers.Dense(16, activation=tf.nn.relu),\n",
    "    keras.layers.Dense(16, activation=tf.nn.relu),\n",
    "    keras.layers.Dense(1, activation=tf.nn.sigmoid),\n",
    "])"
   ]
  },
  {
   "cell_type": "code",
   "execution_count": 27,
   "metadata": {},
   "outputs": [
    {
     "data": {
      "text/html": [
       "<div>\n",
       "<style scoped>\n",
       "    .dataframe tbody tr th:only-of-type {\n",
       "        vertical-align: middle;\n",
       "    }\n",
       "\n",
       "    .dataframe tbody tr th {\n",
       "        vertical-align: top;\n",
       "    }\n",
       "\n",
       "    .dataframe thead th {\n",
       "        text-align: right;\n",
       "    }\n",
       "</style>\n",
       "<table border=\"1\" class=\"dataframe\">\n",
       "  <thead>\n",
       "    <tr style=\"text-align: right;\">\n",
       "      <th></th>\n",
       "      <th>speed</th>\n",
       "      <th>speed_time</th>\n",
       "      <th>memory</th>\n",
       "      <th>memory_time</th>\n",
       "      <th>calculation</th>\n",
       "      <th>calculation_time</th>\n",
       "      <th>attention</th>\n",
       "      <th>attention_time</th>\n",
       "      <th>path_tracing_time</th>\n",
       "    </tr>\n",
       "  </thead>\n",
       "  <tbody>\n",
       "    <tr>\n",
       "      <th>105</th>\n",
       "      <td>17</td>\n",
       "      <td>107</td>\n",
       "      <td>13</td>\n",
       "      <td>191</td>\n",
       "      <td>12</td>\n",
       "      <td>100</td>\n",
       "      <td>17</td>\n",
       "      <td>120</td>\n",
       "      <td>380</td>\n",
       "    </tr>\n",
       "    <tr>\n",
       "      <th>20</th>\n",
       "      <td>11</td>\n",
       "      <td>17</td>\n",
       "      <td>12</td>\n",
       "      <td>185</td>\n",
       "      <td>0</td>\n",
       "      <td>99</td>\n",
       "      <td>13</td>\n",
       "      <td>120</td>\n",
       "      <td>541</td>\n",
       "    </tr>\n",
       "    <tr>\n",
       "      <th>47</th>\n",
       "      <td>11</td>\n",
       "      <td>23</td>\n",
       "      <td>12</td>\n",
       "      <td>185</td>\n",
       "      <td>4</td>\n",
       "      <td>83</td>\n",
       "      <td>18</td>\n",
       "      <td>120</td>\n",
       "      <td>520</td>\n",
       "    </tr>\n",
       "    <tr>\n",
       "      <th>144</th>\n",
       "      <td>48</td>\n",
       "      <td>95</td>\n",
       "      <td>17</td>\n",
       "      <td>146</td>\n",
       "      <td>16</td>\n",
       "      <td>50</td>\n",
       "      <td>30</td>\n",
       "      <td>120</td>\n",
       "      <td>273</td>\n",
       "    </tr>\n",
       "    <tr>\n",
       "      <th>5</th>\n",
       "      <td>11</td>\n",
       "      <td>28</td>\n",
       "      <td>11</td>\n",
       "      <td>189</td>\n",
       "      <td>8</td>\n",
       "      <td>73</td>\n",
       "      <td>6</td>\n",
       "      <td>120</td>\n",
       "      <td>471</td>\n",
       "    </tr>\n",
       "    <tr>\n",
       "      <th>...</th>\n",
       "      <td>...</td>\n",
       "      <td>...</td>\n",
       "      <td>...</td>\n",
       "      <td>...</td>\n",
       "      <td>...</td>\n",
       "      <td>...</td>\n",
       "      <td>...</td>\n",
       "      <td>...</td>\n",
       "      <td>...</td>\n",
       "    </tr>\n",
       "    <tr>\n",
       "      <th>64</th>\n",
       "      <td>13</td>\n",
       "      <td>15</td>\n",
       "      <td>13</td>\n",
       "      <td>188</td>\n",
       "      <td>4</td>\n",
       "      <td>94</td>\n",
       "      <td>8</td>\n",
       "      <td>120</td>\n",
       "      <td>547</td>\n",
       "    </tr>\n",
       "    <tr>\n",
       "      <th>15</th>\n",
       "      <td>9</td>\n",
       "      <td>10</td>\n",
       "      <td>12</td>\n",
       "      <td>210</td>\n",
       "      <td>4</td>\n",
       "      <td>92</td>\n",
       "      <td>5</td>\n",
       "      <td>120</td>\n",
       "      <td>573</td>\n",
       "    </tr>\n",
       "    <tr>\n",
       "      <th>228</th>\n",
       "      <td>54</td>\n",
       "      <td>115</td>\n",
       "      <td>20</td>\n",
       "      <td>149</td>\n",
       "      <td>16</td>\n",
       "      <td>63</td>\n",
       "      <td>43</td>\n",
       "      <td>120</td>\n",
       "      <td>210</td>\n",
       "    </tr>\n",
       "    <tr>\n",
       "      <th>125</th>\n",
       "      <td>47</td>\n",
       "      <td>86</td>\n",
       "      <td>16</td>\n",
       "      <td>155</td>\n",
       "      <td>16</td>\n",
       "      <td>52</td>\n",
       "      <td>59</td>\n",
       "      <td>120</td>\n",
       "      <td>219</td>\n",
       "    </tr>\n",
       "    <tr>\n",
       "      <th>9</th>\n",
       "      <td>6</td>\n",
       "      <td>17</td>\n",
       "      <td>10</td>\n",
       "      <td>183</td>\n",
       "      <td>0</td>\n",
       "      <td>100</td>\n",
       "      <td>8</td>\n",
       "      <td>120</td>\n",
       "      <td>596</td>\n",
       "    </tr>\n",
       "  </tbody>\n",
       "</table>\n",
       "<p>198 rows × 9 columns</p>\n",
       "</div>"
      ],
      "text/plain": [
       "     speed  speed_time  memory  memory_time  calculation  calculation_time  \\\n",
       "105     17         107      13          191           12               100   \n",
       "20      11          17      12          185            0                99   \n",
       "47      11          23      12          185            4                83   \n",
       "144     48          95      17          146           16                50   \n",
       "5       11          28      11          189            8                73   \n",
       "..     ...         ...     ...          ...          ...               ...   \n",
       "64      13          15      13          188            4                94   \n",
       "15       9          10      12          210            4                92   \n",
       "228     54         115      20          149           16                63   \n",
       "125     47          86      16          155           16                52   \n",
       "9        6          17      10          183            0               100   \n",
       "\n",
       "     attention  attention_time  path_tracing_time  \n",
       "105         17             120                380  \n",
       "20          13             120                541  \n",
       "47          18             120                520  \n",
       "144         30             120                273  \n",
       "5            6             120                471  \n",
       "..         ...             ...                ...  \n",
       "64           8             120                547  \n",
       "15           5             120                573  \n",
       "228         43             120                210  \n",
       "125         59             120                219  \n",
       "9            8             120                596  \n",
       "\n",
       "[198 rows x 9 columns]"
      ]
     },
     "execution_count": 27,
     "metadata": {},
     "output_type": "execute_result"
    }
   ],
   "source": [
    "X_train"
   ]
  },
  {
   "cell_type": "code",
   "execution_count": 28,
   "metadata": {},
   "outputs": [],
   "source": [
    "model.compile(optimizer='adam',\n",
    "              loss='binary_crossentropy',\n",
    "              metrics=['accuracy'])"
   ]
  },
  {
   "cell_type": "code",
   "execution_count": 29,
   "metadata": {},
   "outputs": [
    {
     "name": "stdout",
     "output_type": "stream",
     "text": [
      "WARNING:tensorflow:From c:\\program files\\python36\\lib\\site-packages\\keras\\backend\\tensorflow_backend.py:422: The name tf.global_variables is deprecated. Please use tf.compat.v1.global_variables instead.\n",
      "\n",
      "Epoch 1/50\n",
      "198/198 [==============================] - 1s 5ms/step - loss: 6.6324 - accuracy: 0.4848\n",
      "Epoch 2/50\n",
      "198/198 [==============================] - 0s 922us/step - loss: 0.5140 - accuracy: 0.8081\n",
      "Epoch 3/50\n",
      "198/198 [==============================] - 0s 927us/step - loss: 0.4516 - accuracy: 0.84850s - loss: 0.4734 - accuracy: \n",
      "Epoch 4/50\n",
      "198/198 [==============================] - 0s 882us/step - loss: 0.4362 - accuracy: 0.8535\n",
      "Epoch 5/50\n",
      "198/198 [==============================] - 0s 906us/step - loss: 0.3651 - accuracy: 0.8939\n",
      "Epoch 6/50\n",
      "198/198 [==============================] - 0s 900us/step - loss: 0.3971 - accuracy: 0.8788\n",
      "Epoch 7/50\n",
      "198/198 [==============================] - 0s 887us/step - loss: 0.3587 - accuracy: 0.8535\n",
      "Epoch 8/50\n",
      "198/198 [==============================] - 0s 967us/step - loss: 0.3199 - accuracy: 0.9091\n",
      "Epoch 9/50\n",
      "198/198 [==============================] - 0s 972us/step - loss: 0.3472 - accuracy: 0.8990\n",
      "Epoch 10/50\n",
      "198/198 [==============================] - 0s 977us/step - loss: 0.3292 - accuracy: 0.9040\n",
      "Epoch 11/50\n",
      "198/198 [==============================] - 0s 987us/step - loss: 0.3587 - accuracy: 0.9040\n",
      "Epoch 12/50\n",
      "198/198 [==============================] - 0s 1ms/step - loss: 0.3502 - accuracy: 0.9091\n",
      "Epoch 13/50\n",
      "198/198 [==============================] - 0s 1ms/step - loss: 0.3015 - accuracy: 0.8939\n",
      "Epoch 14/50\n",
      "198/198 [==============================] - 0s 977us/step - loss: 0.3539 - accuracy: 0.9141\n",
      "Epoch 15/50\n",
      "198/198 [==============================] - 0s 1ms/step - loss: 0.3761 - accuracy: 0.8939\n",
      "Epoch 16/50\n",
      "198/198 [==============================] - 0s 2ms/step - loss: 0.3106 - accuracy: 0.8939\n",
      "Epoch 17/50\n",
      "198/198 [==============================] - 0s 990us/step - loss: 0.3041 - accuracy: 0.8838\n",
      "Epoch 18/50\n",
      "198/198 [==============================] - 0s 972us/step - loss: 0.3174 - accuracy: 0.9192\n",
      "Epoch 19/50\n",
      "198/198 [==============================] - 0s 892us/step - loss: 0.3026 - accuracy: 0.8939\n",
      "Epoch 20/50\n",
      "198/198 [==============================] - 0s 916us/step - loss: 0.3399 - accuracy: 0.9091\n",
      "Epoch 21/50\n",
      "198/198 [==============================] - 0s 912us/step - loss: 0.3403 - accuracy: 0.8838\n",
      "Epoch 22/50\n",
      "198/198 [==============================] - 0s 892us/step - loss: 0.2802 - accuracy: 0.9141\n",
      "Epoch 23/50\n",
      "198/198 [==============================] - 0s 927us/step - loss: 0.2985 - accuracy: 0.9040\n",
      "Epoch 24/50\n",
      "198/198 [==============================] - 0s 912us/step - loss: 0.2975 - accuracy: 0.9040\n",
      "Epoch 25/50\n",
      "198/198 [==============================] - 0s 892us/step - loss: 0.3164 - accuracy: 0.8939\n",
      "Epoch 26/50\n",
      "198/198 [==============================] - 0s 917us/step - loss: 0.2938 - accuracy: 0.9192\n",
      "Epoch 27/50\n",
      "198/198 [==============================] - 0s 917us/step - loss: 0.3403 - accuracy: 0.8990\n",
      "Epoch 28/50\n",
      "198/198 [==============================] - 0s 932us/step - loss: 0.3082 - accuracy: 0.9192\n",
      "Epoch 29/50\n",
      "198/198 [==============================] - 0s 919us/step - loss: 0.3040 - accuracy: 0.9141\n",
      "Epoch 30/50\n",
      "198/198 [==============================] - 0s 937us/step - loss: 0.2848 - accuracy: 0.9192\n",
      "Epoch 31/50\n",
      "198/198 [==============================] - 0s 907us/step - loss: 0.2941 - accuracy: 0.9141\n",
      "Epoch 32/50\n",
      "198/198 [==============================] - 0s 917us/step - loss: 0.2702 - accuracy: 0.9192\n",
      "Epoch 33/50\n",
      "198/198 [==============================] - 0s 922us/step - loss: 0.2768 - accuracy: 0.9192\n",
      "Epoch 34/50\n",
      "198/198 [==============================] - 0s 967us/step - loss: 0.2868 - accuracy: 0.9091\n",
      "Epoch 35/50\n",
      "198/198 [==============================] - 0s 916us/step - loss: 0.2924 - accuracy: 0.9192\n",
      "Epoch 36/50\n",
      "198/198 [==============================] - 0s 930us/step - loss: 0.2766 - accuracy: 0.9141\n",
      "Epoch 37/50\n",
      "198/198 [==============================] - 0s 906us/step - loss: 0.2979 - accuracy: 0.9040\n",
      "Epoch 38/50\n",
      "198/198 [==============================] - 0s 922us/step - loss: 0.2754 - accuracy: 0.9192\n",
      "Epoch 39/50\n",
      "198/198 [==============================] - 0s 1ms/step - loss: 0.2798 - accuracy: 0.8990\n",
      "Epoch 40/50\n",
      "198/198 [==============================] - 0s 866us/step - loss: 0.3133 - accuracy: 0.8990\n",
      "Epoch 41/50\n",
      "198/198 [==============================] - 0s 917us/step - loss: 0.2965 - accuracy: 0.9141\n",
      "Epoch 42/50\n",
      "198/198 [==============================] - 0s 912us/step - loss: 0.3025 - accuracy: 0.9040\n",
      "Epoch 43/50\n",
      "198/198 [==============================] - 0s 931us/step - loss: 0.2580 - accuracy: 0.9242\n",
      "Epoch 44/50\n",
      "198/198 [==============================] - 0s 942us/step - loss: 0.3051 - accuracy: 0.8939\n",
      "Epoch 45/50\n",
      "198/198 [==============================] - 0s 967us/step - loss: 0.3704 - accuracy: 0.9040\n",
      "Epoch 46/50\n",
      "198/198 [==============================] - 0s 957us/step - loss: 0.2847 - accuracy: 0.9141\n",
      "Epoch 47/50\n",
      "198/198 [==============================] - 0s 917us/step - loss: 0.2675 - accuracy: 0.9192\n",
      "Epoch 48/50\n",
      "198/198 [==============================] - 0s 932us/step - loss: 0.2630 - accuracy: 0.9091\n",
      "Epoch 49/50\n",
      "198/198 [==============================] - 0s 917us/step - loss: 0.2864 - accuracy: 0.9091\n",
      "Epoch 50/50\n",
      "198/198 [==============================] - 0s 927us/step - loss: 0.2780 - accuracy: 0.91410s - loss: 0.2649 - accuracy: 0.\n",
      "50/50 [==============================] - 0s 2ms/step\n",
      "Test accuracy: 0.8999999761581421\n"
     ]
    }
   ],
   "source": [
    "model.fit(X_train, y_train, epochs=50, batch_size=1)\n",
    "\n",
    "test_loss, test_acc = model.evaluate(X_test, y_test)\n",
    "print('Test accuracy:', test_acc)"
   ]
  },
  {
   "cell_type": "code",
   "execution_count": 30,
   "metadata": {},
   "outputs": [
    {
     "name": "stdout",
     "output_type": "stream",
     "text": [
      "Model: \"sequential_4\"\n",
      "_________________________________________________________________\n",
      "Layer (type)                 Output Shape              Param #   \n",
      "=================================================================\n",
      "dense_13 (Dense)             (None, 9)                 90        \n",
      "_________________________________________________________________\n",
      "dense_14 (Dense)             (None, 16)                160       \n",
      "_________________________________________________________________\n",
      "dense_15 (Dense)             (None, 16)                272       \n",
      "_________________________________________________________________\n",
      "dense_16 (Dense)             (None, 1)                 17        \n",
      "=================================================================\n",
      "Total params: 539\n",
      "Trainable params: 539\n",
      "Non-trainable params: 0\n",
      "_________________________________________________________________\n"
     ]
    }
   ],
   "source": [
    "model.summary()"
   ]
  },
  {
   "cell_type": "code",
   "execution_count": 31,
   "metadata": {},
   "outputs": [
    {
     "data": {
      "text/plain": [
       "61    4\n",
       "Name: speed, dtype: int64"
      ]
     },
     "execution_count": 31,
     "metadata": {},
     "output_type": "execute_result"
    }
   ],
   "source": [
    "X_test[1:2]['speed']"
   ]
  },
  {
   "cell_type": "code",
   "execution_count": 35,
   "metadata": {},
   "outputs": [],
   "source": [
    "y_pred=model.predict(X_test)\n",
    "y_pred_class=model.predict_classes(X_test, verbose=0)\n",
    "yhat_probs = y_pred[:, 0]\n",
    "yhat_classes = y_pred_class[:, 0]"
   ]
  },
  {
   "cell_type": "code",
   "execution_count": 46,
   "metadata": {},
   "outputs": [],
   "source": [
    "#from sklearn.metrics import accuracy_score\n",
    "import sklearn.metrics"
   ]
  },
  {
   "cell_type": "code",
   "execution_count": 52,
   "metadata": {},
   "outputs": [
    {
     "name": "stdout",
     "output_type": "stream",
     "text": [
      "Accuracy: 0.900000\n",
      "Precision: 0.880000\n",
      "Recall: 0.916667\n",
      "F1 score: 0.897959\n"
     ]
    }
   ],
   "source": [
    "accuracy = accuracy_score( y_test, y_pred.round())\n",
    "print('Accuracy: %f' % accuracy)\n",
    "# precision tp / (tp + fp)\n",
    "precision = sklearn.metrics.precision_score(y_test, y_pred.round())\n",
    "print('Precision: %f' % precision)\n",
    "# recall: tp / (tp + fn)\n",
    "recall = sklearn.metrics.recall_score(y_test, y_pred.round())\n",
    "print('Recall: %f' % recall)\n",
    "# f1: 2 tp / (2 tp + fp + fn)\n",
    "f1 = sklearn.metrics.f1_score(y_test, y_pred.round())\n",
    "print('F1 score: %f' % f1)"
   ]
  },
  {
   "cell_type": "code",
   "execution_count": 42,
   "metadata": {},
   "outputs": [
    {
     "name": "stdout",
     "output_type": "stream",
     "text": [
      "0.07843532203602395\n"
     ]
    }
   ],
   "source": [
    "from sklearn.metrics import mean_squared_error\n",
    "from math import sqrt\n",
    "NN_mse=mean_squared_error(y_test,y_pred)\n",
    "print(NN_mse)"
   ]
  },
  {
   "cell_type": "code",
   "execution_count": null,
   "metadata": {},
   "outputs": [],
   "source": [
    "rms_NN = sqrt(mean_squared_error(y_test, y_predicted))\n",
    "print(rms_NN)"
   ]
  },
  {
   "cell_type": "code",
   "execution_count": null,
   "metadata": {},
   "outputs": [],
   "source": [
    "#saving model by using tf save model\n",
    "model.save('saved_model') "
   ]
  },
  {
   "cell_type": "code",
   "execution_count": null,
   "metadata": {},
   "outputs": [],
   "source": [
    "#saving model as pkl\n",
    "import pickle\n",
    "weigh= model.get_weights()    \n",
    "pklfile= \"modelweights.pkl\"\n",
    "\n",
    "fpkl= open(pklfile, 'wb')    #Python 3     \n",
    "\n",
    "pickle.dump(weigh, fpkl, protocol= pickle.HIGHEST_PROTOCOL)\n",
    "print(type(pklfile))\n",
    "fpkl.close()"
   ]
  },
  {
   "cell_type": "code",
   "execution_count": null,
   "metadata": {},
   "outputs": [],
   "source": [
    "keras_file=\"linear.h5\"\n",
    "keras.models.save_model(model,keras_file)"
   ]
  },
  {
   "cell_type": "code",
   "execution_count": null,
   "metadata": {},
   "outputs": [],
   "source": [
    "converter= lite.TocoConverter.from_keras_model_file(keras_file)\n",
    "tflite_model=converter.convert()\n",
    "open(\"NN_game_score.tflite\", \"wb\").write(tflite_model)"
   ]
  },
  {
   "cell_type": "code",
   "execution_count": null,
   "metadata": {},
   "outputs": [],
   "source": [
    "model.evaluate_"
   ]
  },
  {
   "cell_type": "code",
   "execution_count": null,
   "metadata": {},
   "outputs": [],
   "source": []
  }
 ],
 "metadata": {
  "kernelspec": {
   "display_name": "Python 3",
   "language": "python",
   "name": "python3"
  },
  "language_info": {
   "codemirror_mode": {
    "name": "ipython",
    "version": 3
   },
   "file_extension": ".py",
   "mimetype": "text/x-python",
   "name": "python",
   "nbconvert_exporter": "python",
   "pygments_lexer": "ipython3",
   "version": "3.6.7"
  }
 },
 "nbformat": 4,
 "nbformat_minor": 2
}
